{
 "cells": [
  {
   "cell_type": "code",
   "execution_count": 1,
   "id": "c6281ddd",
   "metadata": {},
   "outputs": [],
   "source": [
    "# The day of python series from basic to advance. I will be adding my practice codes as part of my hands on series."
   ]
  },
  {
   "cell_type": "code",
   "execution_count": 17,
   "id": "ebd47c1a",
   "metadata": {},
   "outputs": [
    {
     "name": "stdout",
     "output_type": "stream",
     "text": [
      "4\n",
      "0\n",
      "4\n",
      "1.0\n",
      "16\n",
      "1\n",
      "3\n"
     ]
    }
   ],
   "source": [
    "# all python operators\n",
    "print(2+2) #addition\n",
    "print(2-2) #subtraction\n",
    "print(2*2) #multiplication\n",
    "print(2/2) #division(returns values in float )\n",
    "print(4**2) #exponential\n",
    "print(9%2) #modulus(gives remainder)\n",
    "print(7//2) #floor divison"
   ]
  },
  {
   "cell_type": "code",
   "execution_count": 14,
   "id": "50f14bd2",
   "metadata": {},
   "outputs": [
    {
     "name": "stdout",
     "output_type": "stream",
     "text": [
      "True\n",
      "False\n",
      "True\n",
      "False\n"
     ]
    }
   ],
   "source": [
    "#comparision operators\n",
    "print(2==2) #equal\n",
    "print(2!=2) #not equal\n",
    "print(3>2) #greater than\n",
    "print(3<2) #lesser than"
   ]
  },
  {
   "cell_type": "code",
   "execution_count": 39,
   "id": "9f90f8b6",
   "metadata": {},
   "outputs": [
    {
     "name": "stdout",
     "output_type": "stream",
     "text": [
      "<class 'int'>\n",
      "<class 'float'>\n",
      "<class 'str'>\n",
      "<class 'bool'>\n",
      "<class 'set'>\n",
      "<class 'list'>\n",
      "<class 'tuple'>\n",
      "<class 'dict'>\n"
     ]
    }
   ],
   "source": [
    "#data types\n",
    "print(type(2))\n",
    "print(type(2.0))\n",
    "print(type(\"Name\"))\n",
    "print(type(True))\n",
    "print(type({1,2,3,\"abc\"}))\n",
    "print(type([1,2,3,\"abc\"]))\n",
    "print(type((1,2,3,4,\"abc\")))\n",
    "print(type({1 : \"Name\", 2 : \"Age\"}))"
   ]
  },
  {
   "cell_type": "code",
   "execution_count": null,
   "id": "47c1e9ed",
   "metadata": {},
   "outputs": [],
   "source": []
  }
 ],
 "metadata": {
  "kernelspec": {
   "display_name": "Python 3 (ipykernel)",
   "language": "python",
   "name": "python3"
  },
  "language_info": {
   "codemirror_mode": {
    "name": "ipython",
    "version": 3
   },
   "file_extension": ".py",
   "mimetype": "text/x-python",
   "name": "python",
   "nbconvert_exporter": "python",
   "pygments_lexer": "ipython3",
   "version": "3.10.5"
  }
 },
 "nbformat": 4,
 "nbformat_minor": 5
}
